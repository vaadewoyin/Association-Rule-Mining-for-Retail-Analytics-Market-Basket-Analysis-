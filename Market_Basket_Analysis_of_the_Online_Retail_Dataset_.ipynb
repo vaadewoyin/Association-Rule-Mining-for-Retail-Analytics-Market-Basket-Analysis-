{
  "cells": [
    {
      "cell_type": "markdown",
      "source": [
        "## **Project details**"
      ],
      "metadata": {
        "id": "3tOCisu_Obw1"
      },
      "id": "3tOCisu_Obw1"
    },
    {
      "cell_type": "markdown",
      "source": [
        "`The goal of this project is to conduct a market basket analysis using the apriori algorithm. The data used is the Online Retail Data Set from UCI Machine Learning Repository (https://archive.ics.uci.edu/ml/datasets/online+retail), and it is a transnational data set which contains all the transactions occurring between 01/12/2010 and 09/12/2011 for a UK-based and registered non-store online retail.`\n",
        "\n"
      ],
      "metadata": {
        "id": "agD5wYZ8OiQO"
      },
      "id": "agD5wYZ8OiQO"
    },
    {
      "cell_type": "markdown",
      "source": [
        "### **Market Basket Analysis**"
      ],
      "metadata": {
        "id": "7JKAybA6Psz3"
      },
      "id": "7JKAybA6Psz3"
    },
    {
      "cell_type": "markdown",
      "source": [
        "`Market Basket Analysis is a data mining technique used to uncover associations and patterns within a set of transactions or customer purchases. It helps identify which items are frequently bought together or sequentially by customers. The analysis aims to understand the relationships between different products and uncover insights that can be used for various purposes, such as optimizing product placement, cross-selling, and targeted marketing.`\n",
        "\n",
        "`By applying market basket analysis, we aim to uncover hidden patterns, associations, and co-occurrence of items within the transaction data. This will enable us to generate meaningful and actionable insights to support decision-making processes and enhance business strategies`"
      ],
      "metadata": {
        "id": "qeC785ViPy0r"
      },
      "id": "qeC785ViPy0r"
    },
    {
      "cell_type": "markdown",
      "source": [
        "### **Dataset Description**"
      ],
      "metadata": {
        "id": "lHlGtOjQQBYx"
      },
      "id": "lHlGtOjQQBYx"
    },
    {
      "cell_type": "markdown",
      "source": [
        "`The Online Retail Data Set contains a wealth of information about customer transactions. It includes details such as the invoice date and invoice no. of the transaction, the items purchased, the quantity, and the customer's ID. The dataset allows us to explore the purchasing patterns of customers and identify the relationships between different products.`\n",
        "\n",
        "`All the necessary data cleaning and transformations are done to prepare the data for market basket analysis using the apriori algorithm.`"
      ],
      "metadata": {
        "id": "2JQJzdkvQInZ"
      },
      "id": "2JQJzdkvQInZ"
    },
    {
      "cell_type": "markdown",
      "source": [
        "#### Necessary imports"
      ],
      "metadata": {
        "id": "sE-GEX5RQ8KE"
      },
      "id": "sE-GEX5RQ8KE"
    },
    {
      "cell_type": "code",
      "execution_count": 1,
      "metadata": {
        "id": "8c575c6b"
      },
      "outputs": [],
      "source": [
        "#necessary imports\n",
        "import numpy as np\n",
        "import pandas as pd\n",
        "import matplotlib.pyplot as plt\n",
        "import seaborn as sns\n",
        "from mlxtend.preprocessing import TransactionEncoder\n",
        "from mlxtend.frequent_patterns import apriori,association_rules"
      ],
      "id": "8c575c6b"
    },
    {
      "cell_type": "markdown",
      "metadata": {
        "id": "d302d973"
      },
      "source": [
        "#### Import data"
      ],
      "id": "d302d973"
    },
    {
      "cell_type": "code",
      "source": [
        "#download data from UCI Machine Learning Repository\n",
        "!wget https://archive.ics.uci.edu/ml/machine-learning-databases/00352/Online%20Retail.xlsx"
      ],
      "metadata": {
        "colab": {
          "base_uri": "https://localhost:8080/"
        },
        "id": "LZECY-al6ciS",
        "outputId": "48918f28-9ce1-4b56-f28f-7640363dc414"
      },
      "id": "LZECY-al6ciS",
      "execution_count": 2,
      "outputs": [
        {
          "output_type": "stream",
          "name": "stdout",
          "text": [
            "--2023-05-19 19:18:10--  https://archive.ics.uci.edu/ml/machine-learning-databases/00352/Online%20Retail.xlsx\n",
            "Resolving archive.ics.uci.edu (archive.ics.uci.edu)... 128.195.10.252\n",
            "Connecting to archive.ics.uci.edu (archive.ics.uci.edu)|128.195.10.252|:443... connected.\n",
            "HTTP request sent, awaiting response... 200 OK\n",
            "Length: 23715344 (23M) [application/x-httpd-php]\n",
            "Saving to: ‘Online Retail.xlsx.2’\n",
            "\n",
            "Online Retail.xlsx. 100%[===================>]  22.62M  56.1MB/s    in 0.4s    \n",
            "\n",
            "2023-05-19 19:18:10 (56.1 MB/s) - ‘Online Retail.xlsx.2’ saved [23715344/23715344]\n",
            "\n"
          ]
        }
      ]
    },
    {
      "cell_type": "code",
      "execution_count": 3,
      "metadata": {
        "id": "971ab458"
      },
      "outputs": [],
      "source": [
        "#read data\n",
        "retail=pd.read_excel('/content/Online Retail.xlsx')\n",
        "data=retail.copy()"
      ],
      "id": "971ab458"
    },
    {
      "cell_type": "markdown",
      "metadata": {
        "id": "LbnUucAPQetf"
      },
      "source": [
        "#### Eda"
      ],
      "id": "LbnUucAPQetf"
    },
    {
      "cell_type": "markdown",
      "source": [
        "`The objective of conducting Exploratory Data Analysis (EDA) is to gain familiarity with the dataset, extract valuable insights, and identify relevant patterns and trends that can contribute to achieving our project goal`"
      ],
      "metadata": {
        "id": "Aox1TEIkR0Kd"
      },
      "id": "Aox1TEIkR0Kd"
    },
    {
      "cell_type": "code",
      "execution_count": 4,
      "metadata": {
        "colab": {
          "base_uri": "https://localhost:8080/"
        },
        "id": "0b567e52",
        "outputId": "49dae953-93b4-44aa-ad5e-d4a42d11a8a9"
      },
      "outputs": [
        {
          "output_type": "execute_result",
          "data": {
            "text/plain": [
              "(541909, 8)"
            ]
          },
          "metadata": {},
          "execution_count": 4
        }
      ],
      "source": [
        "#data shape\n",
        "data.shape"
      ],
      "id": "0b567e52"
    },
    {
      "cell_type": "code",
      "execution_count": 5,
      "metadata": {
        "colab": {
          "base_uri": "https://localhost:8080/"
        },
        "id": "3034b982",
        "outputId": "aa87f474-3a67-43d2-b521-3e2dff4f65de"
      },
      "outputs": [
        {
          "output_type": "stream",
          "name": "stdout",
          "text": [
            "<class 'pandas.core.frame.DataFrame'>\n",
            "RangeIndex: 541909 entries, 0 to 541908\n",
            "Data columns (total 8 columns):\n",
            " #   Column       Non-Null Count   Dtype         \n",
            "---  ------       --------------   -----         \n",
            " 0   InvoiceNo    541909 non-null  object        \n",
            " 1   StockCode    541909 non-null  object        \n",
            " 2   Description  540455 non-null  object        \n",
            " 3   Quantity     541909 non-null  int64         \n",
            " 4   InvoiceDate  541909 non-null  datetime64[ns]\n",
            " 5   UnitPrice    541909 non-null  float64       \n",
            " 6   CustomerID   406829 non-null  float64       \n",
            " 7   Country      541909 non-null  object        \n",
            "dtypes: datetime64[ns](1), float64(2), int64(1), object(4)\n",
            "memory usage: 33.1+ MB\n"
          ]
        }
      ],
      "source": [
        "#data info\n",
        "data.info()"
      ],
      "id": "3034b982"
    },
    {
      "cell_type": "code",
      "execution_count": 6,
      "metadata": {
        "colab": {
          "base_uri": "https://localhost:8080/",
          "height": 206
        },
        "id": "159866dd",
        "outputId": "0feba544-2e36-4c1d-dc8e-4abccbd2bb4f"
      },
      "outputs": [
        {
          "output_type": "execute_result",
          "data": {
            "text/plain": [
              "  InvoiceNo StockCode                          Description  Quantity  \\\n",
              "0    536365    85123A   WHITE HANGING HEART T-LIGHT HOLDER         6   \n",
              "1    536365     71053                  WHITE METAL LANTERN         6   \n",
              "2    536365    84406B       CREAM CUPID HEARTS COAT HANGER         8   \n",
              "3    536365    84029G  KNITTED UNION FLAG HOT WATER BOTTLE         6   \n",
              "4    536365    84029E       RED WOOLLY HOTTIE WHITE HEART.         6   \n",
              "\n",
              "          InvoiceDate  UnitPrice  CustomerID         Country  \n",
              "0 2010-12-01 08:26:00       2.55     17850.0  United Kingdom  \n",
              "1 2010-12-01 08:26:00       3.39     17850.0  United Kingdom  \n",
              "2 2010-12-01 08:26:00       2.75     17850.0  United Kingdom  \n",
              "3 2010-12-01 08:26:00       3.39     17850.0  United Kingdom  \n",
              "4 2010-12-01 08:26:00       3.39     17850.0  United Kingdom  "
            ],
            "text/html": [
              "\n",
              "  <div id=\"df-38d12333-331e-49c5-8f2a-b18e2a116047\">\n",
              "    <div class=\"colab-df-container\">\n",
              "      <div>\n",
              "<style scoped>\n",
              "    .dataframe tbody tr th:only-of-type {\n",
              "        vertical-align: middle;\n",
              "    }\n",
              "\n",
              "    .dataframe tbody tr th {\n",
              "        vertical-align: top;\n",
              "    }\n",
              "\n",
              "    .dataframe thead th {\n",
              "        text-align: right;\n",
              "    }\n",
              "</style>\n",
              "<table border=\"1\" class=\"dataframe\">\n",
              "  <thead>\n",
              "    <tr style=\"text-align: right;\">\n",
              "      <th></th>\n",
              "      <th>InvoiceNo</th>\n",
              "      <th>StockCode</th>\n",
              "      <th>Description</th>\n",
              "      <th>Quantity</th>\n",
              "      <th>InvoiceDate</th>\n",
              "      <th>UnitPrice</th>\n",
              "      <th>CustomerID</th>\n",
              "      <th>Country</th>\n",
              "    </tr>\n",
              "  </thead>\n",
              "  <tbody>\n",
              "    <tr>\n",
              "      <th>0</th>\n",
              "      <td>536365</td>\n",
              "      <td>85123A</td>\n",
              "      <td>WHITE HANGING HEART T-LIGHT HOLDER</td>\n",
              "      <td>6</td>\n",
              "      <td>2010-12-01 08:26:00</td>\n",
              "      <td>2.55</td>\n",
              "      <td>17850.0</td>\n",
              "      <td>United Kingdom</td>\n",
              "    </tr>\n",
              "    <tr>\n",
              "      <th>1</th>\n",
              "      <td>536365</td>\n",
              "      <td>71053</td>\n",
              "      <td>WHITE METAL LANTERN</td>\n",
              "      <td>6</td>\n",
              "      <td>2010-12-01 08:26:00</td>\n",
              "      <td>3.39</td>\n",
              "      <td>17850.0</td>\n",
              "      <td>United Kingdom</td>\n",
              "    </tr>\n",
              "    <tr>\n",
              "      <th>2</th>\n",
              "      <td>536365</td>\n",
              "      <td>84406B</td>\n",
              "      <td>CREAM CUPID HEARTS COAT HANGER</td>\n",
              "      <td>8</td>\n",
              "      <td>2010-12-01 08:26:00</td>\n",
              "      <td>2.75</td>\n",
              "      <td>17850.0</td>\n",
              "      <td>United Kingdom</td>\n",
              "    </tr>\n",
              "    <tr>\n",
              "      <th>3</th>\n",
              "      <td>536365</td>\n",
              "      <td>84029G</td>\n",
              "      <td>KNITTED UNION FLAG HOT WATER BOTTLE</td>\n",
              "      <td>6</td>\n",
              "      <td>2010-12-01 08:26:00</td>\n",
              "      <td>3.39</td>\n",
              "      <td>17850.0</td>\n",
              "      <td>United Kingdom</td>\n",
              "    </tr>\n",
              "    <tr>\n",
              "      <th>4</th>\n",
              "      <td>536365</td>\n",
              "      <td>84029E</td>\n",
              "      <td>RED WOOLLY HOTTIE WHITE HEART.</td>\n",
              "      <td>6</td>\n",
              "      <td>2010-12-01 08:26:00</td>\n",
              "      <td>3.39</td>\n",
              "      <td>17850.0</td>\n",
              "      <td>United Kingdom</td>\n",
              "    </tr>\n",
              "  </tbody>\n",
              "</table>\n",
              "</div>\n",
              "      <button class=\"colab-df-convert\" onclick=\"convertToInteractive('df-38d12333-331e-49c5-8f2a-b18e2a116047')\"\n",
              "              title=\"Convert this dataframe to an interactive table.\"\n",
              "              style=\"display:none;\">\n",
              "        \n",
              "  <svg xmlns=\"http://www.w3.org/2000/svg\" height=\"24px\"viewBox=\"0 0 24 24\"\n",
              "       width=\"24px\">\n",
              "    <path d=\"M0 0h24v24H0V0z\" fill=\"none\"/>\n",
              "    <path d=\"M18.56 5.44l.94 2.06.94-2.06 2.06-.94-2.06-.94-.94-2.06-.94 2.06-2.06.94zm-11 1L8.5 8.5l.94-2.06 2.06-.94-2.06-.94L8.5 2.5l-.94 2.06-2.06.94zm10 10l.94 2.06.94-2.06 2.06-.94-2.06-.94-.94-2.06-.94 2.06-2.06.94z\"/><path d=\"M17.41 7.96l-1.37-1.37c-.4-.4-.92-.59-1.43-.59-.52 0-1.04.2-1.43.59L10.3 9.45l-7.72 7.72c-.78.78-.78 2.05 0 2.83L4 21.41c.39.39.9.59 1.41.59.51 0 1.02-.2 1.41-.59l7.78-7.78 2.81-2.81c.8-.78.8-2.07 0-2.86zM5.41 20L4 18.59l7.72-7.72 1.47 1.35L5.41 20z\"/>\n",
              "  </svg>\n",
              "      </button>\n",
              "      \n",
              "  <style>\n",
              "    .colab-df-container {\n",
              "      display:flex;\n",
              "      flex-wrap:wrap;\n",
              "      gap: 12px;\n",
              "    }\n",
              "\n",
              "    .colab-df-convert {\n",
              "      background-color: #E8F0FE;\n",
              "      border: none;\n",
              "      border-radius: 50%;\n",
              "      cursor: pointer;\n",
              "      display: none;\n",
              "      fill: #1967D2;\n",
              "      height: 32px;\n",
              "      padding: 0 0 0 0;\n",
              "      width: 32px;\n",
              "    }\n",
              "\n",
              "    .colab-df-convert:hover {\n",
              "      background-color: #E2EBFA;\n",
              "      box-shadow: 0px 1px 2px rgba(60, 64, 67, 0.3), 0px 1px 3px 1px rgba(60, 64, 67, 0.15);\n",
              "      fill: #174EA6;\n",
              "    }\n",
              "\n",
              "    [theme=dark] .colab-df-convert {\n",
              "      background-color: #3B4455;\n",
              "      fill: #D2E3FC;\n",
              "    }\n",
              "\n",
              "    [theme=dark] .colab-df-convert:hover {\n",
              "      background-color: #434B5C;\n",
              "      box-shadow: 0px 1px 3px 1px rgba(0, 0, 0, 0.15);\n",
              "      filter: drop-shadow(0px 1px 2px rgba(0, 0, 0, 0.3));\n",
              "      fill: #FFFFFF;\n",
              "    }\n",
              "  </style>\n",
              "\n",
              "      <script>\n",
              "        const buttonEl =\n",
              "          document.querySelector('#df-38d12333-331e-49c5-8f2a-b18e2a116047 button.colab-df-convert');\n",
              "        buttonEl.style.display =\n",
              "          google.colab.kernel.accessAllowed ? 'block' : 'none';\n",
              "\n",
              "        async function convertToInteractive(key) {\n",
              "          const element = document.querySelector('#df-38d12333-331e-49c5-8f2a-b18e2a116047');\n",
              "          const dataTable =\n",
              "            await google.colab.kernel.invokeFunction('convertToInteractive',\n",
              "                                                     [key], {});\n",
              "          if (!dataTable) return;\n",
              "\n",
              "          const docLinkHtml = 'Like what you see? Visit the ' +\n",
              "            '<a target=\"_blank\" href=https://colab.research.google.com/notebooks/data_table.ipynb>data table notebook</a>'\n",
              "            + ' to learn more about interactive tables.';\n",
              "          element.innerHTML = '';\n",
              "          dataTable['output_type'] = 'display_data';\n",
              "          await google.colab.output.renderOutput(dataTable, element);\n",
              "          const docLink = document.createElement('div');\n",
              "          docLink.innerHTML = docLinkHtml;\n",
              "          element.appendChild(docLink);\n",
              "        }\n",
              "      </script>\n",
              "    </div>\n",
              "  </div>\n",
              "  "
            ]
          },
          "metadata": {},
          "execution_count": 6
        }
      ],
      "source": [
        "#check first five rows\n",
        "data.head()"
      ],
      "id": "159866dd"
    },
    {
      "cell_type": "code",
      "execution_count": 7,
      "metadata": {
        "colab": {
          "base_uri": "https://localhost:8080/"
        },
        "id": "0fcfd7d0",
        "outputId": "14c3943f-8f9c-4da1-a9cc-bb6fc075e6b3"
      },
      "outputs": [
        {
          "output_type": "execute_result",
          "data": {
            "text/plain": [
              "InvoiceNo           0\n",
              "StockCode           0\n",
              "Description      1454\n",
              "Quantity            0\n",
              "InvoiceDate         0\n",
              "UnitPrice           0\n",
              "CustomerID     135080\n",
              "Country             0\n",
              "dtype: int64"
            ]
          },
          "metadata": {},
          "execution_count": 7
        }
      ],
      "source": [
        "#check nulls\n",
        "data.isna().sum()"
      ],
      "id": "0fcfd7d0"
    },
    {
      "cell_type": "code",
      "execution_count": 8,
      "metadata": {
        "id": "cb9c9ceb"
      },
      "outputs": [],
      "source": [
        "#drop null\n",
        "data.dropna(inplace=True)"
      ],
      "id": "cb9c9ceb"
    },
    {
      "cell_type": "code",
      "execution_count": 9,
      "metadata": {
        "colab": {
          "base_uri": "https://localhost:8080/"
        },
        "id": "ffd017b2",
        "outputId": "aa1d9d89-36f8-4b1a-f7ce-5f024be97ae3"
      },
      "outputs": [
        {
          "output_type": "execute_result",
          "data": {
            "text/plain": [
              "5225"
            ]
          },
          "metadata": {},
          "execution_count": 9
        }
      ],
      "source": [
        "#check duplicates\n",
        "data.duplicated().sum()"
      ],
      "id": "ffd017b2"
    },
    {
      "cell_type": "code",
      "execution_count": 10,
      "metadata": {
        "id": "5c7df88f"
      },
      "outputs": [],
      "source": [
        "#Drop duplicates\n",
        "data.drop_duplicates(inplace=True)"
      ],
      "id": "5c7df88f"
    },
    {
      "cell_type": "markdown",
      "source": [
        "`since the dataset is large enough, missing values and duplicates were dropped `"
      ],
      "metadata": {
        "id": "D0ReuJK4SZ9Z"
      },
      "id": "D0ReuJK4SZ9Z"
    },
    {
      "cell_type": "code",
      "execution_count": 11,
      "metadata": {
        "id": "7f64da1c",
        "scrolled": false
      },
      "outputs": [],
      "source": [
        "#remove cancelled transactions\n",
        "#convert invoiceNo to str\n",
        "data['InvoiceNo']=data['InvoiceNo'].astype('str')\n",
        "#extract values without cancelled transactions\n",
        "data=data[~(data['InvoiceNo'].str.contains('c',case=False))]"
      ],
      "id": "7f64da1c"
    },
    {
      "cell_type": "markdown",
      "source": [
        "`From observing the Stockcode column, it has values representing manual, postage,dot postage and some other charges, since these values clearly do not represents items, the rows containing them will be dropped`"
      ],
      "metadata": {
        "id": "AwHQFxz0bI9z"
      },
      "id": "AwHQFxz0bI9z"
    },
    {
      "cell_type": "code",
      "source": [
        "#make stockcode list\n",
        "stock_code_list=list(data['StockCode'])\n",
        "\n",
        "#define function to get stockcodes without numbers\n",
        "def get_stock_codes_without_numbers(stock_codes):\n",
        "    result = []\n",
        "    for code in stock_codes:\n",
        "        code_str = str(code)\n",
        "        if not any(char.isdigit() for char in code_str):\n",
        "            result.append(code)\n",
        "    return result\n",
        "\n",
        "stock_codes_without_numbers=get_stock_codes_without_numbers(stock_code_list)\n",
        "stock_codes_without_numbers=set(stock_codes_without_numbers)\n",
        "print('Other non-item stockcodes:', stock_codes_without_numbers)"
      ],
      "metadata": {
        "colab": {
          "base_uri": "https://localhost:8080/"
        },
        "id": "x2oPNWvLcmnW",
        "outputId": "241594d2-34fe-4f29-a364-4f0a2277cb1f"
      },
      "id": "x2oPNWvLcmnW",
      "execution_count": 12,
      "outputs": [
        {
          "output_type": "stream",
          "name": "stdout",
          "text": [
            "Other non-item stockcodes: {'DOT', 'BANK CHARGES', 'POST', 'PADS', 'M'}\n"
          ]
        }
      ]
    },
    {
      "cell_type": "code",
      "source": [
        "#Exclude rows with stockcodes without numbers from the data\n",
        "for stockcode in stock_codes_without_numbers:\n",
        "  data=data[~(data['StockCode']==stockcode)]"
      ],
      "metadata": {
        "id": "yPgF8r_4ednk"
      },
      "id": "yPgF8r_4ednk",
      "execution_count": 13,
      "outputs": []
    },
    {
      "cell_type": "code",
      "execution_count": 14,
      "metadata": {
        "colab": {
          "base_uri": "https://localhost:8080/"
        },
        "id": "7190157b",
        "outputId": "6ef04d5e-cb7f-4e0a-d524-96d435feb149"
      },
      "outputs": [
        {
          "output_type": "stream",
          "name": "stdout",
          "text": [
            "Number of Unique Customer_id - 4335\n",
            "Number of Unique items - 3872\n"
          ]
        }
      ],
      "source": [
        "#check number of unique customer\n",
        "print('Number of Unique Customer_id -',data['CustomerID'].nunique())\n",
        "#check number of unique items\n",
        "print('Number of Unique items -', data['Description'].nunique())"
      ],
      "id": "7190157b"
    },
    {
      "cell_type": "code",
      "source": [
        "#summary stats\n",
        "data.describe()"
      ],
      "metadata": {
        "colab": {
          "base_uri": "https://localhost:8080/",
          "height": 300
        },
        "id": "aNV3Q3tYu_yx",
        "outputId": "66eedd4e-bee1-4fe5-a578-2dcc3c7b8b4d"
      },
      "id": "aNV3Q3tYu_yx",
      "execution_count": 15,
      "outputs": [
        {
          "output_type": "execute_result",
          "data": {
            "text/plain": [
              "            Quantity      UnitPrice     CustomerID\n",
              "count  391316.000000  391316.000000  391316.000000\n",
              "mean       13.175528       2.890193   15294.841072\n",
              "std       181.876625       4.375175    1710.167127\n",
              "min         1.000000       0.000000   12346.000000\n",
              "25%         2.000000       1.250000   13969.000000\n",
              "50%         6.000000       1.950000   15157.000000\n",
              "75%        12.000000       3.750000   16794.000000\n",
              "max     80995.000000     649.500000   18287.000000"
            ],
            "text/html": [
              "\n",
              "  <div id=\"df-0e297e40-e4a4-4870-8343-c09048909ad2\">\n",
              "    <div class=\"colab-df-container\">\n",
              "      <div>\n",
              "<style scoped>\n",
              "    .dataframe tbody tr th:only-of-type {\n",
              "        vertical-align: middle;\n",
              "    }\n",
              "\n",
              "    .dataframe tbody tr th {\n",
              "        vertical-align: top;\n",
              "    }\n",
              "\n",
              "    .dataframe thead th {\n",
              "        text-align: right;\n",
              "    }\n",
              "</style>\n",
              "<table border=\"1\" class=\"dataframe\">\n",
              "  <thead>\n",
              "    <tr style=\"text-align: right;\">\n",
              "      <th></th>\n",
              "      <th>Quantity</th>\n",
              "      <th>UnitPrice</th>\n",
              "      <th>CustomerID</th>\n",
              "    </tr>\n",
              "  </thead>\n",
              "  <tbody>\n",
              "    <tr>\n",
              "      <th>count</th>\n",
              "      <td>391316.000000</td>\n",
              "      <td>391316.000000</td>\n",
              "      <td>391316.000000</td>\n",
              "    </tr>\n",
              "    <tr>\n",
              "      <th>mean</th>\n",
              "      <td>13.175528</td>\n",
              "      <td>2.890193</td>\n",
              "      <td>15294.841072</td>\n",
              "    </tr>\n",
              "    <tr>\n",
              "      <th>std</th>\n",
              "      <td>181.876625</td>\n",
              "      <td>4.375175</td>\n",
              "      <td>1710.167127</td>\n",
              "    </tr>\n",
              "    <tr>\n",
              "      <th>min</th>\n",
              "      <td>1.000000</td>\n",
              "      <td>0.000000</td>\n",
              "      <td>12346.000000</td>\n",
              "    </tr>\n",
              "    <tr>\n",
              "      <th>25%</th>\n",
              "      <td>2.000000</td>\n",
              "      <td>1.250000</td>\n",
              "      <td>13969.000000</td>\n",
              "    </tr>\n",
              "    <tr>\n",
              "      <th>50%</th>\n",
              "      <td>6.000000</td>\n",
              "      <td>1.950000</td>\n",
              "      <td>15157.000000</td>\n",
              "    </tr>\n",
              "    <tr>\n",
              "      <th>75%</th>\n",
              "      <td>12.000000</td>\n",
              "      <td>3.750000</td>\n",
              "      <td>16794.000000</td>\n",
              "    </tr>\n",
              "    <tr>\n",
              "      <th>max</th>\n",
              "      <td>80995.000000</td>\n",
              "      <td>649.500000</td>\n",
              "      <td>18287.000000</td>\n",
              "    </tr>\n",
              "  </tbody>\n",
              "</table>\n",
              "</div>\n",
              "      <button class=\"colab-df-convert\" onclick=\"convertToInteractive('df-0e297e40-e4a4-4870-8343-c09048909ad2')\"\n",
              "              title=\"Convert this dataframe to an interactive table.\"\n",
              "              style=\"display:none;\">\n",
              "        \n",
              "  <svg xmlns=\"http://www.w3.org/2000/svg\" height=\"24px\"viewBox=\"0 0 24 24\"\n",
              "       width=\"24px\">\n",
              "    <path d=\"M0 0h24v24H0V0z\" fill=\"none\"/>\n",
              "    <path d=\"M18.56 5.44l.94 2.06.94-2.06 2.06-.94-2.06-.94-.94-2.06-.94 2.06-2.06.94zm-11 1L8.5 8.5l.94-2.06 2.06-.94-2.06-.94L8.5 2.5l-.94 2.06-2.06.94zm10 10l.94 2.06.94-2.06 2.06-.94-2.06-.94-.94-2.06-.94 2.06-2.06.94z\"/><path d=\"M17.41 7.96l-1.37-1.37c-.4-.4-.92-.59-1.43-.59-.52 0-1.04.2-1.43.59L10.3 9.45l-7.72 7.72c-.78.78-.78 2.05 0 2.83L4 21.41c.39.39.9.59 1.41.59.51 0 1.02-.2 1.41-.59l7.78-7.78 2.81-2.81c.8-.78.8-2.07 0-2.86zM5.41 20L4 18.59l7.72-7.72 1.47 1.35L5.41 20z\"/>\n",
              "  </svg>\n",
              "      </button>\n",
              "      \n",
              "  <style>\n",
              "    .colab-df-container {\n",
              "      display:flex;\n",
              "      flex-wrap:wrap;\n",
              "      gap: 12px;\n",
              "    }\n",
              "\n",
              "    .colab-df-convert {\n",
              "      background-color: #E8F0FE;\n",
              "      border: none;\n",
              "      border-radius: 50%;\n",
              "      cursor: pointer;\n",
              "      display: none;\n",
              "      fill: #1967D2;\n",
              "      height: 32px;\n",
              "      padding: 0 0 0 0;\n",
              "      width: 32px;\n",
              "    }\n",
              "\n",
              "    .colab-df-convert:hover {\n",
              "      background-color: #E2EBFA;\n",
              "      box-shadow: 0px 1px 2px rgba(60, 64, 67, 0.3), 0px 1px 3px 1px rgba(60, 64, 67, 0.15);\n",
              "      fill: #174EA6;\n",
              "    }\n",
              "\n",
              "    [theme=dark] .colab-df-convert {\n",
              "      background-color: #3B4455;\n",
              "      fill: #D2E3FC;\n",
              "    }\n",
              "\n",
              "    [theme=dark] .colab-df-convert:hover {\n",
              "      background-color: #434B5C;\n",
              "      box-shadow: 0px 1px 3px 1px rgba(0, 0, 0, 0.15);\n",
              "      filter: drop-shadow(0px 1px 2px rgba(0, 0, 0, 0.3));\n",
              "      fill: #FFFFFF;\n",
              "    }\n",
              "  </style>\n",
              "\n",
              "      <script>\n",
              "        const buttonEl =\n",
              "          document.querySelector('#df-0e297e40-e4a4-4870-8343-c09048909ad2 button.colab-df-convert');\n",
              "        buttonEl.style.display =\n",
              "          google.colab.kernel.accessAllowed ? 'block' : 'none';\n",
              "\n",
              "        async function convertToInteractive(key) {\n",
              "          const element = document.querySelector('#df-0e297e40-e4a4-4870-8343-c09048909ad2');\n",
              "          const dataTable =\n",
              "            await google.colab.kernel.invokeFunction('convertToInteractive',\n",
              "                                                     [key], {});\n",
              "          if (!dataTable) return;\n",
              "\n",
              "          const docLinkHtml = 'Like what you see? Visit the ' +\n",
              "            '<a target=\"_blank\" href=https://colab.research.google.com/notebooks/data_table.ipynb>data table notebook</a>'\n",
              "            + ' to learn more about interactive tables.';\n",
              "          element.innerHTML = '';\n",
              "          dataTable['output_type'] = 'display_data';\n",
              "          await google.colab.output.renderOutput(dataTable, element);\n",
              "          const docLink = document.createElement('div');\n",
              "          docLink.innerHTML = docLinkHtml;\n",
              "          element.appendChild(docLink);\n",
              "        }\n",
              "      </script>\n",
              "    </div>\n",
              "  </div>\n",
              "  "
            ]
          },
          "metadata": {},
          "execution_count": 15
        }
      ]
    },
    {
      "cell_type": "markdown",
      "source": [
        "`The lowest unit price of an item is 0, since an item cannot have 0 price, the rows with this values will be dropped.`"
      ],
      "metadata": {
        "id": "9AnSgANITVyA"
      },
      "id": "9AnSgANITVyA"
    },
    {
      "cell_type": "code",
      "execution_count": 16,
      "metadata": {
        "id": "hSVrBnC8_U01"
      },
      "outputs": [],
      "source": [
        "#removing rows where UnitPrice=0 \n",
        "data=data[~(data['UnitPrice']==0)]"
      ],
      "id": "hSVrBnC8_U01"
    },
    {
      "cell_type": "code",
      "execution_count": 17,
      "metadata": {
        "colab": {
          "base_uri": "https://localhost:8080/"
        },
        "id": "h13b79ZLA4pu",
        "outputId": "e9abf8a9-b5d2-4959-f162-5c7fda6d85dc"
      },
      "outputs": [
        {
          "output_type": "stream",
          "name": "stdout",
          "text": [
            "Number of unique stockcode : 3660\n",
            "Number of unique item description : 3872\n"
          ]
        }
      ],
      "source": [
        "#compare unique stockcode with description (one unique stockcode for unique item)\n",
        "print('Number of unique stockcode :',data.StockCode.nunique())\n",
        "print('Number of unique item description :',data.Description.nunique())"
      ],
      "id": "h13b79ZLA4pu"
    },
    {
      "cell_type": "markdown",
      "source": [
        "`the numbers of unique stock code and unique item description are different, and this ought not to be so, since there is one unique stockcode for one unique item. hence, this will be resolved.`"
      ],
      "metadata": {
        "id": "2m2kPZbSUpET"
      },
      "id": "2m2kPZbSUpET"
    },
    {
      "cell_type": "code",
      "execution_count": 18,
      "metadata": {
        "colab": {
          "base_uri": "https://localhost:8080/"
        },
        "id": "UpBF_VjeBeia",
        "outputId": "22c24ddb-9e3f-424b-a236-777ecc8d6981"
      },
      "outputs": [
        {
          "output_type": "execute_result",
          "data": {
            "text/plain": [
              "Index(['COLOURING PENCILS BROWN TUBE', 'COLUMBIAN CANDLE RECTANGLE',\n",
              "       'COLUMBIAN CANDLE ROUND', 'EAU DE NILE JEWELLED PHOTOFRAME',\n",
              "       'FRENCH FLORAL CUSHION COVER ', 'FRENCH LATTICE CUSHION COVER ',\n",
              "       'FROSTED WHITE BASE ', 'METAL SIGN,CUPCAKE SINGLE HOOK',\n",
              "       'PAPER LANTERN 9 POINT SNOW STAR', 'PINK FAIRY CAKE CUSHION COVER',\n",
              "       'PINK FLOCK GLASS CANDLEHOLDER', 'PINK FLOWERS RABBIT EASTER',\n",
              "       'RETRO PLASTIC 70'S TRAY', 'RETRO PLASTIC DAISY TRAY',\n",
              "       'RETRO PLASTIC POLKA TRAY', 'ROUND BLUE CLOCK WITH SUCKER',\n",
              "       'SQUARE CHERRY BLOSSOM CABINET', 'STORAGE TIN VINTAGE LEAF',\n",
              "       'WHITE BAMBOO RIBS LAMPSHADE'],\n",
              "      dtype='object', name='Description')"
            ]
          },
          "metadata": {},
          "execution_count": 18
        }
      ],
      "source": [
        "#get items with more than 1 stock code\n",
        "desc_code_unique=(data.groupby('Description').agg({'StockCode':'nunique'}))\n",
        "description_extra_sc=desc_code_unique[desc_code_unique['StockCode']>1]\n",
        "#get names of the items more than 1 stock code\n",
        "description_extra_sc.index"
      ],
      "id": "UpBF_VjeBeia"
    },
    {
      "cell_type": "code",
      "execution_count": 19,
      "metadata": {
        "id": "kdy3kvhFGSl6"
      },
      "outputs": [],
      "source": [
        "#get index number of item descriptions with more than 1 stock code\n",
        "desc_index_to_drop=data[data['Description'].isin(description_extra_sc.index)].index\n",
        "#drop item descriptions with more than 1 stock code\n",
        "data=data.drop(index=desc_index_to_drop)"
      ],
      "id": "kdy3kvhFGSl6"
    },
    {
      "cell_type": "code",
      "execution_count": 20,
      "metadata": {
        "colab": {
          "base_uri": "https://localhost:8080/",
          "height": 238
        },
        "id": "jQUxES3bHYxj",
        "outputId": "492cbc31-eee9-4b1e-81dd-859cacb251f1"
      },
      "outputs": [
        {
          "output_type": "execute_result",
          "data": {
            "text/plain": [
              "           Description\n",
              "StockCode             \n",
              "23106                2\n",
              "23306                2\n",
              "22287                2\n",
              "23231                3\n",
              "23250                2"
            ],
            "text/html": [
              "\n",
              "  <div id=\"df-1167efde-06bb-400c-8891-20020a87b657\">\n",
              "    <div class=\"colab-df-container\">\n",
              "      <div>\n",
              "<style scoped>\n",
              "    .dataframe tbody tr th:only-of-type {\n",
              "        vertical-align: middle;\n",
              "    }\n",
              "\n",
              "    .dataframe tbody tr th {\n",
              "        vertical-align: top;\n",
              "    }\n",
              "\n",
              "    .dataframe thead th {\n",
              "        text-align: right;\n",
              "    }\n",
              "</style>\n",
              "<table border=\"1\" class=\"dataframe\">\n",
              "  <thead>\n",
              "    <tr style=\"text-align: right;\">\n",
              "      <th></th>\n",
              "      <th>Description</th>\n",
              "    </tr>\n",
              "    <tr>\n",
              "      <th>StockCode</th>\n",
              "      <th></th>\n",
              "    </tr>\n",
              "  </thead>\n",
              "  <tbody>\n",
              "    <tr>\n",
              "      <th>23106</th>\n",
              "      <td>2</td>\n",
              "    </tr>\n",
              "    <tr>\n",
              "      <th>23306</th>\n",
              "      <td>2</td>\n",
              "    </tr>\n",
              "    <tr>\n",
              "      <th>22287</th>\n",
              "      <td>2</td>\n",
              "    </tr>\n",
              "    <tr>\n",
              "      <th>23231</th>\n",
              "      <td>3</td>\n",
              "    </tr>\n",
              "    <tr>\n",
              "      <th>23250</th>\n",
              "      <td>2</td>\n",
              "    </tr>\n",
              "  </tbody>\n",
              "</table>\n",
              "</div>\n",
              "      <button class=\"colab-df-convert\" onclick=\"convertToInteractive('df-1167efde-06bb-400c-8891-20020a87b657')\"\n",
              "              title=\"Convert this dataframe to an interactive table.\"\n",
              "              style=\"display:none;\">\n",
              "        \n",
              "  <svg xmlns=\"http://www.w3.org/2000/svg\" height=\"24px\"viewBox=\"0 0 24 24\"\n",
              "       width=\"24px\">\n",
              "    <path d=\"M0 0h24v24H0V0z\" fill=\"none\"/>\n",
              "    <path d=\"M18.56 5.44l.94 2.06.94-2.06 2.06-.94-2.06-.94-.94-2.06-.94 2.06-2.06.94zm-11 1L8.5 8.5l.94-2.06 2.06-.94-2.06-.94L8.5 2.5l-.94 2.06-2.06.94zm10 10l.94 2.06.94-2.06 2.06-.94-2.06-.94-.94-2.06-.94 2.06-2.06.94z\"/><path d=\"M17.41 7.96l-1.37-1.37c-.4-.4-.92-.59-1.43-.59-.52 0-1.04.2-1.43.59L10.3 9.45l-7.72 7.72c-.78.78-.78 2.05 0 2.83L4 21.41c.39.39.9.59 1.41.59.51 0 1.02-.2 1.41-.59l7.78-7.78 2.81-2.81c.8-.78.8-2.07 0-2.86zM5.41 20L4 18.59l7.72-7.72 1.47 1.35L5.41 20z\"/>\n",
              "  </svg>\n",
              "      </button>\n",
              "      \n",
              "  <style>\n",
              "    .colab-df-container {\n",
              "      display:flex;\n",
              "      flex-wrap:wrap;\n",
              "      gap: 12px;\n",
              "    }\n",
              "\n",
              "    .colab-df-convert {\n",
              "      background-color: #E8F0FE;\n",
              "      border: none;\n",
              "      border-radius: 50%;\n",
              "      cursor: pointer;\n",
              "      display: none;\n",
              "      fill: #1967D2;\n",
              "      height: 32px;\n",
              "      padding: 0 0 0 0;\n",
              "      width: 32px;\n",
              "    }\n",
              "\n",
              "    .colab-df-convert:hover {\n",
              "      background-color: #E2EBFA;\n",
              "      box-shadow: 0px 1px 2px rgba(60, 64, 67, 0.3), 0px 1px 3px 1px rgba(60, 64, 67, 0.15);\n",
              "      fill: #174EA6;\n",
              "    }\n",
              "\n",
              "    [theme=dark] .colab-df-convert {\n",
              "      background-color: #3B4455;\n",
              "      fill: #D2E3FC;\n",
              "    }\n",
              "\n",
              "    [theme=dark] .colab-df-convert:hover {\n",
              "      background-color: #434B5C;\n",
              "      box-shadow: 0px 1px 3px 1px rgba(0, 0, 0, 0.15);\n",
              "      filter: drop-shadow(0px 1px 2px rgba(0, 0, 0, 0.3));\n",
              "      fill: #FFFFFF;\n",
              "    }\n",
              "  </style>\n",
              "\n",
              "      <script>\n",
              "        const buttonEl =\n",
              "          document.querySelector('#df-1167efde-06bb-400c-8891-20020a87b657 button.colab-df-convert');\n",
              "        buttonEl.style.display =\n",
              "          google.colab.kernel.accessAllowed ? 'block' : 'none';\n",
              "\n",
              "        async function convertToInteractive(key) {\n",
              "          const element = document.querySelector('#df-1167efde-06bb-400c-8891-20020a87b657');\n",
              "          const dataTable =\n",
              "            await google.colab.kernel.invokeFunction('convertToInteractive',\n",
              "                                                     [key], {});\n",
              "          if (!dataTable) return;\n",
              "\n",
              "          const docLinkHtml = 'Like what you see? Visit the ' +\n",
              "            '<a target=\"_blank\" href=https://colab.research.google.com/notebooks/data_table.ipynb>data table notebook</a>'\n",
              "            + ' to learn more about interactive tables.';\n",
              "          element.innerHTML = '';\n",
              "          dataTable['output_type'] = 'display_data';\n",
              "          await google.colab.output.renderOutput(dataTable, element);\n",
              "          const docLink = document.createElement('div');\n",
              "          docLink.innerHTML = docLinkHtml;\n",
              "          element.appendChild(docLink);\n",
              "        }\n",
              "      </script>\n",
              "    </div>\n",
              "  </div>\n",
              "  "
            ]
          },
          "metadata": {},
          "execution_count": 20
        }
      ],
      "source": [
        "#get stockcode with more than 1 item description\n",
        "sc_desc_unique=(data.groupby('StockCode').agg({'Description':'nunique'}))\n",
        "stockcode_extra_desc=sc_desc_unique[sc_desc_unique['Description']>1]\n",
        "stockcode_extra_desc.sample(5,random_state=13)"
      ],
      "id": "jQUxES3bHYxj"
    },
    {
      "cell_type": "code",
      "execution_count": 21,
      "metadata": {
        "id": "kqqBEA7xJVGv"
      },
      "outputs": [],
      "source": [
        "#get index number of stockcode with more than 1 item description\n",
        "sc_index_to_drop=data[data['StockCode'].isin(stockcode_extra_desc.index)].index\n",
        "#drop item descriptions with more than 1 stock code\n",
        "data=data.drop(index=sc_index_to_drop)"
      ],
      "id": "kqqBEA7xJVGv"
    },
    {
      "cell_type": "code",
      "execution_count": 22,
      "metadata": {
        "colab": {
          "base_uri": "https://localhost:8080/"
        },
        "id": "EGnCG-NTMaQR",
        "outputId": "7826ea7a-b9e0-47df-91df-a284c193eb48"
      },
      "outputs": [
        {
          "output_type": "stream",
          "name": "stdout",
          "text": [
            "Number of unique stockcode : 3415\n",
            "Number of unique item description : 3415\n"
          ]
        }
      ],
      "source": [
        "#check unique stockcode and Unique description number\n",
        "print('Number of unique stockcode :',data.StockCode.nunique())\n",
        "print('Number of unique item description :',data.Description.nunique())"
      ],
      "id": "EGnCG-NTMaQR"
    },
    {
      "cell_type": "code",
      "execution_count": 23,
      "metadata": {
        "colab": {
          "base_uri": "https://localhost:8080/",
          "height": 388
        },
        "id": "9ab5794d",
        "outputId": "c8db3472-02c9-4d1e-8dff-13d86edfb46f"
      },
      "outputs": [
        {
          "output_type": "display_data",
          "data": {
            "text/plain": [
              "<Figure size 800x400 with 1 Axes>"
            ],
            "image/png": "[encoded data removed]"
          },
          "metadata": {}
        }
      ],
      "source": [
        "#Top items bought\n",
        "top_10=data['Description'].value_counts(ascending=False)\n",
        "top_10=top_10[0:10]\n",
        "#plot barplot to show top 10 items bought\n",
        "plt.figure(figsize=(8,4))\n",
        "sns.barplot(data=data,y=top_10.index,x=top_10,color='steelblue',)\n",
        "sns.despine()\n",
        "plt.show()"
      ],
      "id": "9ab5794d"
    },
    {
      "cell_type": "markdown",
      "source": [
        "`REGENCY CAKESTAND 3 TIER is the most bought item in the dataset.`"
      ],
      "metadata": {
        "id": "iKqDxE04VV5H"
      },
      "id": "iKqDxE04VV5H"
    },
    {
      "cell_type": "code",
      "execution_count": 24,
      "metadata": {
        "id": "818df979"
      },
      "outputs": [],
      "source": [
        "#Set InvoiceDate as index\n",
        "data.set_index('InvoiceDate',inplace=True)"
      ],
      "id": "818df979"
    },
    {
      "cell_type": "code",
      "execution_count": 25,
      "metadata": {
        "colab": {
          "base_uri": "https://localhost:8080/"
        },
        "id": "5f909161",
        "outputId": "1ac7f0b8-528d-4061-9772-be3410c5e20c"
      },
      "outputs": [
        {
          "output_type": "stream",
          "name": "stdout",
          "text": [
            "InvoiceDate\n",
            "2011-11-14 15:27:00    504\n",
            "2011-11-28 15:54:00    496\n",
            "2011-12-05 17:17:00    489\n",
            "2011-10-31 14:09:00    406\n",
            "2011-11-23 13:39:00    406\n",
            "Name: Description, dtype: int64\n"
          ]
        }
      ],
      "source": [
        "#dates with highest item purchase\n",
        "highest_purchase_date=data.groupby('InvoiceDate')['Description'].count().sort_values(ascending=False)\n",
        "print(highest_purchase_date[0:5])"
      ],
      "id": "5f909161"
    },
    {
      "cell_type": "markdown",
      "source": [
        "`The day with highest items purchased is 2011-11-14`"
      ],
      "metadata": {
        "id": "3CwT4ruXV1mh"
      },
      "id": "3CwT4ruXV1mh"
    },
    {
      "cell_type": "code",
      "execution_count": 26,
      "metadata": {
        "colab": {
          "base_uri": "https://localhost:8080/",
          "height": 388
        },
        "id": "8278c54c",
        "outputId": "cf9f00c6-ec39-467f-81b8-d3c3295e2256"
      },
      "outputs": [
        {
          "output_type": "display_data",
          "data": {
            "text/plain": [
              "<Figure size 800x400 with 1 Axes>"
            ],
            "image/png": "[encoded data removed]"
          },
          "metadata": {}
        }
      ],
      "source": [
        "data_month=data.resample('M') \n",
        "data_month_count=data_month['Description'].count() \n",
        "\n",
        "#Plot of total number of items sold by month\n",
        "plt.figure(figsize=(8,4))\n",
        "sns.set_style('whitegrid')\n",
        "sns.lineplot(data=data_month_count)\n",
        "plt.show()"
      ],
      "id": "8278c54c"
    },
    {
      "cell_type": "markdown",
      "source": [
        "` November, 2011 was the month with highest items sold in the entire dataset.`"
      ],
      "metadata": {
        "id": "Q4ueG8eXWshR"
      },
      "id": "Q4ueG8eXWshR"
    },
    {
      "cell_type": "code",
      "execution_count": 27,
      "metadata": {
        "colab": {
          "base_uri": "https://localhost:8080/"
        },
        "id": "bdb8f193",
        "scrolled": true,
        "outputId": "0e5a1ceb-99d3-44e8-9752-4334f0a7112c"
      },
      "outputs": [
        {
          "output_type": "stream",
          "name": "stdout",
          "text": [
            "United Kingdom    314039\n",
            "Germany             7820\n",
            "France              7297\n",
            "EIRE                6531\n",
            "Spain               2184\n",
            "Name: Country, dtype: int64\n"
          ]
        }
      ],
      "source": [
        "#Top 5 countries \n",
        "Top_5_countries=data.Country.value_counts().sort_values(ascending=False)\n",
        "print(Top_5_countries[0:5])"
      ],
      "id": "bdb8f193"
    },
    {
      "cell_type": "markdown",
      "source": [
        "`most of the purchase came from customers in the United Kingdom, followed by Germany and the rest.`"
      ],
      "metadata": {
        "id": "PgQnYAwCW9xE"
      },
      "id": "PgQnYAwCW9xE"
    },
    {
      "cell_type": "code",
      "execution_count": 28,
      "metadata": {
        "colab": {
          "base_uri": "https://localhost:8080/"
        },
        "id": "36eb2b3f",
        "outputId": "0f8a749a-0451-44c8-da87-148119745a41"
      },
      "outputs": [
        {
          "output_type": "stream",
          "name": "stdout",
          "text": [
            "Saudi Arabia       9\n",
            "Bahrain           17\n",
            "Czech Republic    23\n",
            "Brazil            32\n",
            "Lithuania         35\n",
            "Name: Country, dtype: int64\n"
          ]
        }
      ],
      "source": [
        "#Bottom 5 countries\n",
        "low_5_countries=data.Country.value_counts().sort_values()\n",
        "print(low_5_countries[0:5])"
      ],
      "id": "36eb2b3f"
    },
    {
      "cell_type": "markdown",
      "source": [
        "` The countries with customers with the lowest purchase are show above, with Saudi Arabi been the lowest. it could mean that we have few customers in those regions`"
      ],
      "metadata": {
        "id": "TSNKVj-5XSaw"
      },
      "id": "TSNKVj-5XSaw"
    },
    {
      "cell_type": "code",
      "execution_count": 29,
      "metadata": {
        "colab": {
          "base_uri": "https://localhost:8080/",
          "height": 112
        },
        "id": "7ae1c2cf",
        "scrolled": true,
        "outputId": "24c480ac-c591-4f07-9eec-f22c0e8e76f2"
      },
      "outputs": [
        {
          "output_type": "execute_result",
          "data": {
            "text/plain": [
              "                    InvoiceNo StockCode                  Description  \\\n",
              "InvoiceDate                                                            \n",
              "2010-12-16 08:41:00    539080     22655  VINTAGE RED KITCHEN CABINET   \n",
              "\n",
              "                     Quantity  UnitPrice  CustomerID         Country  \n",
              "InvoiceDate                                                           \n",
              "2010-12-16 08:41:00         1      295.0     16607.0  United Kingdom  "
            ],
            "text/html": [
              "\n",
              "  <div id=\"df-3da16e05-38f4-4838-8bbe-0283b60b09fd\">\n",
              "    <div class=\"colab-df-container\">\n",
              "      <div>\n",
              "<style scoped>\n",
              "    .dataframe tbody tr th:only-of-type {\n",
              "        vertical-align: middle;\n",
              "    }\n",
              "\n",
              "    .dataframe tbody tr th {\n",
              "        vertical-align: top;\n",
              "    }\n",
              "\n",
              "    .dataframe thead th {\n",
              "        text-align: right;\n",
              "    }\n",
              "</style>\n",
              "<table border=\"1\" class=\"dataframe\">\n",
              "  <thead>\n",
              "    <tr style=\"text-align: right;\">\n",
              "      <th></th>\n",
              "      <th>InvoiceNo</th>\n",
              "      <th>StockCode</th>\n",
              "      <th>Description</th>\n",
              "      <th>Quantity</th>\n",
              "      <th>UnitPrice</th>\n",
              "      <th>CustomerID</th>\n",
              "      <th>Country</th>\n",
              "    </tr>\n",
              "    <tr>\n",
              "      <th>InvoiceDate</th>\n",
              "      <th></th>\n",
              "      <th></th>\n",
              "      <th></th>\n",
              "      <th></th>\n",
              "      <th></th>\n",
              "      <th></th>\n",
              "      <th></th>\n",
              "    </tr>\n",
              "  </thead>\n",
              "  <tbody>\n",
              "    <tr>\n",
              "      <th>2010-12-16 08:41:00</th>\n",
              "      <td>539080</td>\n",
              "      <td>22655</td>\n",
              "      <td>VINTAGE RED KITCHEN CABINET</td>\n",
              "      <td>1</td>\n",
              "      <td>295.0</td>\n",
              "      <td>16607.0</td>\n",
              "      <td>United Kingdom</td>\n",
              "    </tr>\n",
              "  </tbody>\n",
              "</table>\n",
              "</div>\n",
              "      <button class=\"colab-df-convert\" onclick=\"convertToInteractive('df-3da16e05-38f4-4838-8bbe-0283b60b09fd')\"\n",
              "              title=\"Convert this dataframe to an interactive table.\"\n",
              "              style=\"display:none;\">\n",
              "        \n",
              "  <svg xmlns=\"http://www.w3.org/2000/svg\" height=\"24px\"viewBox=\"0 0 24 24\"\n",
              "       width=\"24px\">\n",
              "    <path d=\"M0 0h24v24H0V0z\" fill=\"none\"/>\n",
              "    <path d=\"M18.56 5.44l.94 2.06.94-2.06 2.06-.94-2.06-.94-.94-2.06-.94 2.06-2.06.94zm-11 1L8.5 8.5l.94-2.06 2.06-.94-2.06-.94L8.5 2.5l-.94 2.06-2.06.94zm10 10l.94 2.06.94-2.06 2.06-.94-2.06-.94-.94-2.06-.94 2.06-2.06.94z\"/><path d=\"M17.41 7.96l-1.37-1.37c-.4-.4-.92-.59-1.43-.59-.52 0-1.04.2-1.43.59L10.3 9.45l-7.72 7.72c-.78.78-.78 2.05 0 2.83L4 21.41c.39.39.9.59 1.41.59.51 0 1.02-.2 1.41-.59l7.78-7.78 2.81-2.81c.8-.78.8-2.07 0-2.86zM5.41 20L4 18.59l7.72-7.72 1.47 1.35L5.41 20z\"/>\n",
              "  </svg>\n",
              "      </button>\n",
              "      \n",
              "  <style>\n",
              "    .colab-df-container {\n",
              "      display:flex;\n",
              "      flex-wrap:wrap;\n",
              "      gap: 12px;\n",
              "    }\n",
              "\n",
              "    .colab-df-convert {\n",
              "      background-color: #E8F0FE;\n",
              "      border: none;\n",
              "      border-radius: 50%;\n",
              "      cursor: pointer;\n",
              "      display: none;\n",
              "      fill: #1967D2;\n",
              "      height: 32px;\n",
              "      padding: 0 0 0 0;\n",
              "      width: 32px;\n",
              "    }\n",
              "\n",
              "    .colab-df-convert:hover {\n",
              "      background-color: #E2EBFA;\n",
              "      box-shadow: 0px 1px 2px rgba(60, 64, 67, 0.3), 0px 1px 3px 1px rgba(60, 64, 67, 0.15);\n",
              "      fill: #174EA6;\n",
              "    }\n",
              "\n",
              "    [theme=dark] .colab-df-convert {\n",
              "      background-color: #3B4455;\n",
              "      fill: #D2E3FC;\n",
              "    }\n",
              "\n",
              "    [theme=dark] .colab-df-convert:hover {\n",
              "      background-color: #434B5C;\n",
              "      box-shadow: 0px 1px 3px 1px rgba(0, 0, 0, 0.15);\n",
              "      filter: drop-shadow(0px 1px 2px rgba(0, 0, 0, 0.3));\n",
              "      fill: #FFFFFF;\n",
              "    }\n",
              "  </style>\n",
              "\n",
              "      <script>\n",
              "        const buttonEl =\n",
              "          document.querySelector('#df-3da16e05-38f4-4838-8bbe-0283b60b09fd button.colab-df-convert');\n",
              "        buttonEl.style.display =\n",
              "          google.colab.kernel.accessAllowed ? 'block' : 'none';\n",
              "\n",
              "        async function convertToInteractive(key) {\n",
              "          const element = document.querySelector('#df-3da16e05-38f4-4838-8bbe-0283b60b09fd');\n",
              "          const dataTable =\n",
              "            await google.colab.kernel.invokeFunction('convertToInteractive',\n",
              "                                                     [key], {});\n",
              "          if (!dataTable) return;\n",
              "\n",
              "          const docLinkHtml = 'Like what you see? Visit the ' +\n",
              "            '<a target=\"_blank\" href=https://colab.research.google.com/notebooks/data_table.ipynb>data table notebook</a>'\n",
              "            + ' to learn more about interactive tables.';\n",
              "          element.innerHTML = '';\n",
              "          dataTable['output_type'] = 'display_data';\n",
              "          await google.colab.output.renderOutput(dataTable, element);\n",
              "          const docLink = document.createElement('div');\n",
              "          docLink.innerHTML = docLinkHtml;\n",
              "          element.appendChild(docLink);\n",
              "        }\n",
              "      </script>\n",
              "    </div>\n",
              "  </div>\n",
              "  "
            ]
          },
          "metadata": {},
          "execution_count": 29
        }
      ],
      "source": [
        "#Most expensive product\n",
        "data.sort_values(by='UnitPrice',ascending=False).head(1)"
      ],
      "id": "7ae1c2cf"
    },
    {
      "cell_type": "markdown",
      "source": [
        "` The Most expensive item in the dataset is the VINTAGE RED KITCHEN CABINET`"
      ],
      "metadata": {
        "id": "BOLEt8z8kMf2"
      },
      "id": "BOLEt8z8kMf2"
    },
    {
      "cell_type": "code",
      "execution_count": 30,
      "metadata": {
        "colab": {
          "base_uri": "https://localhost:8080/"
        },
        "id": "38d9e994",
        "outputId": "4e8329b9-c230-40a7-afd9-dc80dab838bb"
      },
      "outputs": [
        {
          "output_type": "execute_result",
          "data": {
            "text/plain": [
              "CustomerID\n",
              "14646.0    247288.43\n",
              "18102.0    233756.27\n",
              "17450.0    173546.71\n",
              "16446.0    168472.50\n",
              "14911.0    126000.79\n",
              "Name: TotalSpending, dtype: float64"
            ]
          },
          "metadata": {},
          "execution_count": 30
        }
      ],
      "source": [
        "#total amount spent\n",
        "data['TotalSpending']=data['Quantity']*data['UnitPrice']\n",
        "#Top 5 customers\n",
        "data.groupby('CustomerID')['TotalSpending'].sum().sort_values(ascending=False).iloc[0:5]"
      ],
      "id": "38d9e994"
    },
    {
      "cell_type": "markdown",
      "source": [
        "` The customers with the overall highest total spending are shown above, with customerId-14646 being the customer with most spending.`"
      ],
      "metadata": {
        "id": "KBbo9uIJkbXL"
      },
      "id": "KBbo9uIJkbXL"
    },
    {
      "cell_type": "markdown",
      "metadata": {
        "id": "HqpZHGS5WNRs"
      },
      "source": [
        "## **Market Basket Analysis Implementation**"
      ],
      "id": "HqpZHGS5WNRs"
    },
    {
      "cell_type": "markdown",
      "metadata": {
        "id": "49ecc971"
      },
      "source": [
        "#### Extract transactions from data\n",
        "\n"
      ],
      "id": "49ecc971"
    },
    {
      "cell_type": "markdown",
      "source": [
        "`Market basket analysis requires transactional data to be in a specific format, hence transactions are extracted from the cleaned data, and then these transaction list is represented in one hot encoding format.`"
      ],
      "metadata": {
        "id": "72XG4J0nlMOq"
      },
      "id": "72XG4J0nlMOq"
    },
    {
      "cell_type": "code",
      "execution_count": 31,
      "metadata": {
        "id": "bbcff06a",
        "scrolled": true
      },
      "outputs": [],
      "source": [
        "#extract transactions from data\n",
        "transactions=[]\n",
        "groups=list(data.groupby(['InvoiceDate','InvoiceNo'])['Description'])\n",
        "for i in range(len(groups)):\n",
        "    items=list(groups[i][1])\n",
        "    transactions.append(items)"
      ],
      "id": "bbcff06a"
    },
    {
      "cell_type": "markdown",
      "metadata": {
        "id": "1c70028a"
      },
      "source": [
        "#### Onehot encoding transaction\n",
        "\n",
        "\n",
        "\n",
        "\n",
        "\n",
        "\n"
      ],
      "id": "1c70028a"
    },
    {
      "cell_type": "code",
      "execution_count": 32,
      "metadata": {
        "id": "9b410786"
      },
      "outputs": [],
      "source": [
        "#Onehot Encoding of transactions\n",
        "te=TransactionEncoder()\n",
        "data_ohe=te.fit_transform(transactions)\n",
        "\n",
        "data_ohe=pd.DataFrame(data_ohe,columns=te.columns_)"
      ],
      "id": "9b410786"
    },
    {
      "cell_type": "code",
      "execution_count": 33,
      "metadata": {
        "colab": {
          "base_uri": "https://localhost:8080/",
          "height": 324
        },
        "id": "706b79d5",
        "scrolled": true,
        "outputId": "b75108af-cf2c-440e-d8ce-2a14f94b8edf"
      },
      "outputs": [
        {
          "output_type": "execute_result",
          "data": {
            "text/plain": [
              "    4 PURPLE FLOCK DINNER CANDLES   DOLLY GIRL BEAKER  \\\n",
              "0                           False               False   \n",
              "1                           False               False   \n",
              "2                           False               False   \n",
              "\n",
              "    NINE DRAWER OFFICE TIDY   OVAL WALL MIRROR DIAMANTE   \\\n",
              "0                     False                        False   \n",
              "1                     False                        False   \n",
              "2                     False                        False   \n",
              "\n",
              "    SPACEBOY BABY GIFT SET   TRELLIS COAT RACK  10 COLOUR SPACEBOY PEN  \\\n",
              "0                    False               False                   False   \n",
              "1                    False               False                   False   \n",
              "2                    False               False                   False   \n",
              "\n",
              "   12 COLOURED PARTY BALLOONS  12 DAISY PEGS IN WOOD BOX  \\\n",
              "0                       False                      False   \n",
              "1                       False                      False   \n",
              "2                       False                      False   \n",
              "\n",
              "   12 EGG HOUSE PAINTED WOOD  ...  ZINC HEART LATTICE T-LIGHT HOLDER  \\\n",
              "0                      False  ...                              False   \n",
              "1                      False  ...                              False   \n",
              "2                      False  ...                              False   \n",
              "\n",
              "   ZINC HEART LATTICE TRAY OVAL   ZINC METAL HEART DECORATION  \\\n",
              "0                          False                        False   \n",
              "1                          False                        False   \n",
              "2                          False                        False   \n",
              "\n",
              "   ZINC SWEETHEART SOAP DISH  ZINC SWEETHEART WIRE LETTER RACK  \\\n",
              "0                      False                             False   \n",
              "1                      False                             False   \n",
              "2                      False                             False   \n",
              "\n",
              "   ZINC T-LIGHT HOLDER STARS SMALL  ZINC TOP  2 DOOR WOODEN SHELF   \\\n",
              "0                            False                           False   \n",
              "1                            False                           False   \n",
              "2                            False                           False   \n",
              "\n",
              "   ZINC WILLIE WINKIE  CANDLE STICK  ZINC WIRE KITCHEN ORGANISER  \\\n",
              "0                             False                        False   \n",
              "1                             False                        False   \n",
              "2                             False                        False   \n",
              "\n",
              "   ZINC WIRE SWEETHEART LETTER TRAY  \n",
              "0                             False  \n",
              "1                             False  \n",
              "2                             False  \n",
              "\n",
              "[3 rows x 3415 columns]"
            ],
            "text/html": [
              "\n",
              "  <div id=\"df-cf77be06-228b-4f64-b338-07a698705ff3\">\n",
              "    <div class=\"colab-df-container\">\n",
              "      <div>\n",
              "<style scoped>\n",
              "    .dataframe tbody tr th:only-of-type {\n",
              "        vertical-align: middle;\n",
              "    }\n",
              "\n",
              "    .dataframe tbody tr th {\n",
              "        vertical-align: top;\n",
              "    }\n",
              "\n",
              "    .dataframe thead th {\n",
              "        text-align: right;\n",
              "    }\n",
              "</style>\n",
              "<table border=\"1\" class=\"dataframe\">\n",
              "  <thead>\n",
              "    <tr style=\"text-align: right;\">\n",
              "      <th></th>\n",
              "      <th>4 PURPLE FLOCK DINNER CANDLES</th>\n",
              "      <th>DOLLY GIRL BEAKER</th>\n",
              "      <th>NINE DRAWER OFFICE TIDY</th>\n",
              "      <th>OVAL WALL MIRROR DIAMANTE</th>\n",
              "      <th>SPACEBOY BABY GIFT SET</th>\n",
              "      <th>TRELLIS COAT RACK</th>\n",
              "      <th>10 COLOUR SPACEBOY PEN</th>\n",
              "      <th>12 COLOURED PARTY BALLOONS</th>\n",
              "      <th>12 DAISY PEGS IN WOOD BOX</th>\n",
              "      <th>12 EGG HOUSE PAINTED WOOD</th>\n",
              "      <th>...</th>\n",
              "      <th>ZINC HEART LATTICE T-LIGHT HOLDER</th>\n",
              "      <th>ZINC HEART LATTICE TRAY OVAL</th>\n",
              "      <th>ZINC METAL HEART DECORATION</th>\n",
              "      <th>ZINC SWEETHEART SOAP DISH</th>\n",
              "      <th>ZINC SWEETHEART WIRE LETTER RACK</th>\n",
              "      <th>ZINC T-LIGHT HOLDER STARS SMALL</th>\n",
              "      <th>ZINC TOP  2 DOOR WOODEN SHELF</th>\n",
              "      <th>ZINC WILLIE WINKIE  CANDLE STICK</th>\n",
              "      <th>ZINC WIRE KITCHEN ORGANISER</th>\n",
              "      <th>ZINC WIRE SWEETHEART LETTER TRAY</th>\n",
              "    </tr>\n",
              "  </thead>\n",
              "  <tbody>\n",
              "    <tr>\n",
              "      <th>0</th>\n",
              "      <td>False</td>\n",
              "      <td>False</td>\n",
              "      <td>False</td>\n",
              "      <td>False</td>\n",
              "      <td>False</td>\n",
              "      <td>False</td>\n",
              "      <td>False</td>\n",
              "      <td>False</td>\n",
              "      <td>False</td>\n",
              "      <td>False</td>\n",
              "      <td>...</td>\n",
              "      <td>False</td>\n",
              "      <td>False</td>\n",
              "      <td>False</td>\n",
              "      <td>False</td>\n",
              "      <td>False</td>\n",
              "      <td>False</td>\n",
              "      <td>False</td>\n",
              "      <td>False</td>\n",
              "      <td>False</td>\n",
              "      <td>False</td>\n",
              "    </tr>\n",
              "    <tr>\n",
              "      <th>1</th>\n",
              "      <td>False</td>\n",
              "      <td>False</td>\n",
              "      <td>False</td>\n",
              "      <td>False</td>\n",
              "      <td>False</td>\n",
              "      <td>False</td>\n",
              "      <td>False</td>\n",
              "      <td>False</td>\n",
              "      <td>False</td>\n",
              "      <td>False</td>\n",
              "      <td>...</td>\n",
              "      <td>False</td>\n",
              "      <td>False</td>\n",
              "      <td>False</td>\n",
              "      <td>False</td>\n",
              "      <td>False</td>\n",
              "      <td>False</td>\n",
              "      <td>False</td>\n",
              "      <td>False</td>\n",
              "      <td>False</td>\n",
              "      <td>False</td>\n",
              "    </tr>\n",
              "    <tr>\n",
              "      <th>2</th>\n",
              "      <td>False</td>\n",
              "      <td>False</td>\n",
              "      <td>False</td>\n",
              "      <td>False</td>\n",
              "      <td>False</td>\n",
              "      <td>False</td>\n",
              "      <td>False</td>\n",
              "      <td>False</td>\n",
              "      <td>False</td>\n",
              "      <td>False</td>\n",
              "      <td>...</td>\n",
              "      <td>False</td>\n",
              "      <td>False</td>\n",
              "      <td>False</td>\n",
              "      <td>False</td>\n",
              "      <td>False</td>\n",
              "      <td>False</td>\n",
              "      <td>False</td>\n",
              "      <td>False</td>\n",
              "      <td>False</td>\n",
              "      <td>False</td>\n",
              "    </tr>\n",
              "  </tbody>\n",
              "</table>\n",
              "<p>3 rows × 3415 columns</p>\n",
              "</div>\n",
              "      <button class=\"colab-df-convert\" onclick=\"convertToInteractive('df-cf77be06-228b-4f64-b338-07a698705ff3')\"\n",
              "              title=\"Convert this dataframe to an interactive table.\"\n",
              "              style=\"display:none;\">\n",
              "        \n",
              "  <svg xmlns=\"http://www.w3.org/2000/svg\" height=\"24px\"viewBox=\"0 0 24 24\"\n",
              "       width=\"24px\">\n",
              "    <path d=\"M0 0h24v24H0V0z\" fill=\"none\"/>\n",
              "    <path d=\"M18.56 5.44l.94 2.06.94-2.06 2.06-.94-2.06-.94-.94-2.06-.94 2.06-2.06.94zm-11 1L8.5 8.5l.94-2.06 2.06-.94-2.06-.94L8.5 2.5l-.94 2.06-2.06.94zm10 10l.94 2.06.94-2.06 2.06-.94-2.06-.94-.94-2.06-.94 2.06-2.06.94z\"/><path d=\"M17.41 7.96l-1.37-1.37c-.4-.4-.92-.59-1.43-.59-.52 0-1.04.2-1.43.59L10.3 9.45l-7.72 7.72c-.78.78-.78 2.05 0 2.83L4 21.41c.39.39.9.59 1.41.59.51 0 1.02-.2 1.41-.59l7.78-7.78 2.81-2.81c.8-.78.8-2.07 0-2.86zM5.41 20L4 18.59l7.72-7.72 1.47 1.35L5.41 20z\"/>\n",
              "  </svg>\n",
              "      </button>\n",
              "      \n",
              "  <style>\n",
              "    .colab-df-container {\n",
              "      display:flex;\n",
              "      flex-wrap:wrap;\n",
              "      gap: 12px;\n",
              "    }\n",
              "\n",
              "    .colab-df-convert {\n",
              "      background-color: #E8F0FE;\n",
              "      border: none;\n",
              "      border-radius: 50%;\n",
              "      cursor: pointer;\n",
              "      display: none;\n",
              "      fill: #1967D2;\n",
              "      height: 32px;\n",
              "      padding: 0 0 0 0;\n",
              "      width: 32px;\n",
              "    }\n",
              "\n",
              "    .colab-df-convert:hover {\n",
              "      background-color: #E2EBFA;\n",
              "      box-shadow: 0px 1px 2px rgba(60, 64, 67, 0.3), 0px 1px 3px 1px rgba(60, 64, 67, 0.15);\n",
              "      fill: #174EA6;\n",
              "    }\n",
              "\n",
              "    [theme=dark] .colab-df-convert {\n",
              "      background-color: #3B4455;\n",
              "      fill: #D2E3FC;\n",
              "    }\n",
              "\n",
              "    [theme=dark] .colab-df-convert:hover {\n",
              "      background-color: #434B5C;\n",
              "      box-shadow: 0px 1px 3px 1px rgba(0, 0, 0, 0.15);\n",
              "      filter: drop-shadow(0px 1px 2px rgba(0, 0, 0, 0.3));\n",
              "      fill: #FFFFFF;\n",
              "    }\n",
              "  </style>\n",
              "\n",
              "      <script>\n",
              "        const buttonEl =\n",
              "          document.querySelector('#df-cf77be06-228b-4f64-b338-07a698705ff3 button.colab-df-convert');\n",
              "        buttonEl.style.display =\n",
              "          google.colab.kernel.accessAllowed ? 'block' : 'none';\n",
              "\n",
              "        async function convertToInteractive(key) {\n",
              "          const element = document.querySelector('#df-cf77be06-228b-4f64-b338-07a698705ff3');\n",
              "          const dataTable =\n",
              "            await google.colab.kernel.invokeFunction('convertToInteractive',\n",
              "                                                     [key], {});\n",
              "          if (!dataTable) return;\n",
              "\n",
              "          const docLinkHtml = 'Like what you see? Visit the ' +\n",
              "            '<a target=\"_blank\" href=https://colab.research.google.com/notebooks/data_table.ipynb>data table notebook</a>'\n",
              "            + ' to learn more about interactive tables.';\n",
              "          element.innerHTML = '';\n",
              "          dataTable['output_type'] = 'display_data';\n",
              "          await google.colab.output.renderOutput(dataTable, element);\n",
              "          const docLink = document.createElement('div');\n",
              "          docLink.innerHTML = docLinkHtml;\n",
              "          element.appendChild(docLink);\n",
              "        }\n",
              "      </script>\n",
              "    </div>\n",
              "  </div>\n",
              "  "
            ]
          },
          "metadata": {},
          "execution_count": 33
        }
      ],
      "source": [
        "#check encoded data\n",
        "data_ohe.head(3)"
      ],
      "id": "706b79d5"
    },
    {
      "cell_type": "markdown",
      "metadata": {
        "id": "4b47ced1"
      },
      "source": [
        "#### Apriori algorithm"
      ],
      "id": "4b47ced1"
    },
    {
      "cell_type": "markdown",
      "source": [
        "`The Apriori algorithm is a popular association rule mining algorithm used for discovering frequent itemsets in transactional datasets. It employs a breadth-first search strategy to identify itemsets that meet a minimum support threshold. The algorithm iteratively generates candidate itemsets and prunes those that are unlikely to be frequent based on the Apriori property. By iteratively applying this process, the algorithm efficiently finds frequent itemsets that can be used to generate meaningful association rules.`"
      ],
      "metadata": {
        "id": "cYFaw-f-myvK"
      },
      "id": "cYFaw-f-myvK"
    },
    {
      "cell_type": "code",
      "execution_count": 34,
      "metadata": {
        "id": "189da289",
        "scrolled": false,
        "colab": {
          "base_uri": "https://localhost:8080/"
        },
        "outputId": "2b4fa09e-2398-4603-e650-8bab1aadb1ad"
      },
      "outputs": [
        {
          "output_type": "stream",
          "name": "stdout",
          "text": [
            "Number of frequent itemsets - 841\n"
          ]
        }
      ],
      "source": [
        "#Frequent itemsets using apriori Algorithm\n",
        "frequent_itemsets=apriori(data_ohe,min_support=0.01,use_colnames=True,max_len=4)\n",
        "frequent_itemsets['length'] = frequent_itemsets['itemsets'].apply(lambda x: len(x))\n",
        "print('Number of frequent itemsets -',len(frequent_itemsets))"
      ],
      "id": "189da289"
    },
    {
      "cell_type": "markdown",
      "metadata": {
        "id": "f5194ce9"
      },
      "source": [
        "#### Association Rule"
      ],
      "id": "f5194ce9"
    },
    {
      "cell_type": "markdown",
      "source": [
        "`Association rule mining is a technique used to discover interesting relationships or patterns in large datasets. It identifies associations between items based on their co-occurrence in transactions. Association rules consist of an antecedent (premise) and a consequent (outcome) with corresponding measures like support, confidence, and lift.`"
      ],
      "metadata": {
        "id": "q-YwxPLinZVK"
      },
      "id": "q-YwxPLinZVK"
    },
    {
      "cell_type": "code",
      "execution_count": 35,
      "metadata": {
        "id": "0c3488b0",
        "colab": {
          "base_uri": "https://localhost:8080/"
        },
        "outputId": "fc892792-30fd-4a7d-da1d-781aa66361a7"
      },
      "outputs": [
        {
          "output_type": "stream",
          "name": "stdout",
          "text": [
            "Number of Association rules - 646\n"
          ]
        }
      ],
      "source": [
        "#Compute association rules with prunning\n",
        "rules=association_rules(frequent_itemsets,metric='lift',min_threshold=1.01)\n",
        "print('Number of Association rules -',len(rules))"
      ],
      "id": "0c3488b0"
    },
    {
      "cell_type": "code",
      "execution_count": 36,
      "metadata": {
        "id": "e5b7f484",
        "colab": {
          "base_uri": "https://localhost:8080/",
          "height": 354
        },
        "outputId": "de7cb503-9706-48a0-fac4-2b2bd081457c"
      },
      "outputs": [
        {
          "output_type": "execute_result",
          "data": {
            "text/plain": [
              "                         antecedents                        consequents  \\\n",
              "0  (PACK OF 72 RETROSPOT CAKE CASES)  (60 CAKE CASES DOLLY GIRL DESIGN)   \n",
              "1  (60 CAKE CASES DOLLY GIRL DESIGN)  (PACK OF 72 RETROSPOT CAKE CASES)   \n",
              "2   (72 SWEETHEART FAIRY CAKE CASES)      (60 TEATIME FAIRY CAKE CASES)   \n",
              "3      (60 TEATIME FAIRY CAKE CASES)   (72 SWEETHEART FAIRY CAKE CASES)   \n",
              "4      (60 TEATIME FAIRY CAKE CASES)   (PACK OF 60 DINOSAUR CAKE CASES)   \n",
              "\n",
              "   antecedent support  consequent support   support  confidence       lift  \\\n",
              "0            0.056390            0.019399  0.010357    0.183673   9.468004   \n",
              "1            0.019399            0.056390  0.010357    0.533898   9.468004   \n",
              "2            0.027455            0.036004  0.012111    0.441118  12.251928   \n",
              "3            0.036004            0.027455  0.012111    0.336377  12.251928   \n",
              "4            0.036004            0.028989  0.012221    0.339422  11.708442   \n",
              "\n",
              "   leverage  conviction  \n",
              "0  0.009263    1.201236  \n",
              "1  0.009263    2.024473  \n",
              "2  0.011122    1.724864  \n",
              "3  0.011122    1.465509  \n",
              "4  0.011177    1.469940  "
            ],
            "text/html": [
              "\n",
              "  <div id=\"df-bd7bbe3d-cb20-4a64-a1cb-db3f9d918a47\">\n",
              "    <div class=\"colab-df-container\">\n",
              "      <div>\n",
              "<style scoped>\n",
              "    .dataframe tbody tr th:only-of-type {\n",
              "        vertical-align: middle;\n",
              "    }\n",
              "\n",
              "    .dataframe tbody tr th {\n",
              "        vertical-align: top;\n",
              "    }\n",
              "\n",
              "    .dataframe thead th {\n",
              "        text-align: right;\n",
              "    }\n",
              "</style>\n",
              "<table border=\"1\" class=\"dataframe\">\n",
              "  <thead>\n",
              "    <tr style=\"text-align: right;\">\n",
              "      <th></th>\n",
              "      <th>antecedents</th>\n",
              "      <th>consequents</th>\n",
              "      <th>antecedent support</th>\n",
              "      <th>consequent support</th>\n",
              "      <th>support</th>\n",
              "      <th>confidence</th>\n",
              "      <th>lift</th>\n",
              "      <th>leverage</th>\n",
              "      <th>conviction</th>\n",
              "    </tr>\n",
              "  </thead>\n",
              "  <tbody>\n",
              "    <tr>\n",
              "      <th>0</th>\n",
              "      <td>(PACK OF 72 RETROSPOT CAKE CASES)</td>\n",
              "      <td>(60 CAKE CASES DOLLY GIRL DESIGN)</td>\n",
              "      <td>0.056390</td>\n",
              "      <td>0.019399</td>\n",
              "      <td>0.010357</td>\n",
              "      <td>0.183673</td>\n",
              "      <td>9.468004</td>\n",
              "      <td>0.009263</td>\n",
              "      <td>1.201236</td>\n",
              "    </tr>\n",
              "    <tr>\n",
              "      <th>1</th>\n",
              "      <td>(60 CAKE CASES DOLLY GIRL DESIGN)</td>\n",
              "      <td>(PACK OF 72 RETROSPOT CAKE CASES)</td>\n",
              "      <td>0.019399</td>\n",
              "      <td>0.056390</td>\n",
              "      <td>0.010357</td>\n",
              "      <td>0.533898</td>\n",
              "      <td>9.468004</td>\n",
              "      <td>0.009263</td>\n",
              "      <td>2.024473</td>\n",
              "    </tr>\n",
              "    <tr>\n",
              "      <th>2</th>\n",
              "      <td>(72 SWEETHEART FAIRY CAKE CASES)</td>\n",
              "      <td>(60 TEATIME FAIRY CAKE CASES)</td>\n",
              "      <td>0.027455</td>\n",
              "      <td>0.036004</td>\n",
              "      <td>0.012111</td>\n",
              "      <td>0.441118</td>\n",
              "      <td>12.251928</td>\n",
              "      <td>0.011122</td>\n",
              "      <td>1.724864</td>\n",
              "    </tr>\n",
              "    <tr>\n",
              "      <th>3</th>\n",
              "      <td>(60 TEATIME FAIRY CAKE CASES)</td>\n",
              "      <td>(72 SWEETHEART FAIRY CAKE CASES)</td>\n",
              "      <td>0.036004</td>\n",
              "      <td>0.027455</td>\n",
              "      <td>0.012111</td>\n",
              "      <td>0.336377</td>\n",
              "      <td>12.251928</td>\n",
              "      <td>0.011122</td>\n",
              "      <td>1.465509</td>\n",
              "    </tr>\n",
              "    <tr>\n",
              "      <th>4</th>\n",
              "      <td>(60 TEATIME FAIRY CAKE CASES)</td>\n",
              "      <td>(PACK OF 60 DINOSAUR CAKE CASES)</td>\n",
              "      <td>0.036004</td>\n",
              "      <td>0.028989</td>\n",
              "      <td>0.012221</td>\n",
              "      <td>0.339422</td>\n",
              "      <td>11.708442</td>\n",
              "      <td>0.011177</td>\n",
              "      <td>1.469940</td>\n",
              "    </tr>\n",
              "  </tbody>\n",
              "</table>\n",
              "</div>\n",
              "      <button class=\"colab-df-convert\" onclick=\"convertToInteractive('df-bd7bbe3d-cb20-4a64-a1cb-db3f9d918a47')\"\n",
              "              title=\"Convert this dataframe to an interactive table.\"\n",
              "              style=\"display:none;\">\n",
              "        \n",
              "  <svg xmlns=\"http://www.w3.org/2000/svg\" height=\"24px\"viewBox=\"0 0 24 24\"\n",
              "       width=\"24px\">\n",
              "    <path d=\"M0 0h24v24H0V0z\" fill=\"none\"/>\n",
              "    <path d=\"M18.56 5.44l.94 2.06.94-2.06 2.06-.94-2.06-.94-.94-2.06-.94 2.06-2.06.94zm-11 1L8.5 8.5l.94-2.06 2.06-.94-2.06-.94L8.5 2.5l-.94 2.06-2.06.94zm10 10l.94 2.06.94-2.06 2.06-.94-2.06-.94-.94-2.06-.94 2.06-2.06.94z\"/><path d=\"M17.41 7.96l-1.37-1.37c-.4-.4-.92-.59-1.43-.59-.52 0-1.04.2-1.43.59L10.3 9.45l-7.72 7.72c-.78.78-.78 2.05 0 2.83L4 21.41c.39.39.9.59 1.41.59.51 0 1.02-.2 1.41-.59l7.78-7.78 2.81-2.81c.8-.78.8-2.07 0-2.86zM5.41 20L4 18.59l7.72-7.72 1.47 1.35L5.41 20z\"/>\n",
              "  </svg>\n",
              "      </button>\n",
              "      \n",
              "  <style>\n",
              "    .colab-df-container {\n",
              "      display:flex;\n",
              "      flex-wrap:wrap;\n",
              "      gap: 12px;\n",
              "    }\n",
              "\n",
              "    .colab-df-convert {\n",
              "      background-color: #E8F0FE;\n",
              "      border: none;\n",
              "      border-radius: 50%;\n",
              "      cursor: pointer;\n",
              "      display: none;\n",
              "      fill: #1967D2;\n",
              "      height: 32px;\n",
              "      padding: 0 0 0 0;\n",
              "      width: 32px;\n",
              "    }\n",
              "\n",
              "    .colab-df-convert:hover {\n",
              "      background-color: #E2EBFA;\n",
              "      box-shadow: 0px 1px 2px rgba(60, 64, 67, 0.3), 0px 1px 3px 1px rgba(60, 64, 67, 0.15);\n",
              "      fill: #174EA6;\n",
              "    }\n",
              "\n",
              "    [theme=dark] .colab-df-convert {\n",
              "      background-color: #3B4455;\n",
              "      fill: #D2E3FC;\n",
              "    }\n",
              "\n",
              "    [theme=dark] .colab-df-convert:hover {\n",
              "      background-color: #434B5C;\n",
              "      box-shadow: 0px 1px 3px 1px rgba(0, 0, 0, 0.15);\n",
              "      filter: drop-shadow(0px 1px 2px rgba(0, 0, 0, 0.3));\n",
              "      fill: #FFFFFF;\n",
              "    }\n",
              "  </style>\n",
              "\n",
              "      <script>\n",
              "        const buttonEl =\n",
              "          document.querySelector('#df-bd7bbe3d-cb20-4a64-a1cb-db3f9d918a47 button.colab-df-convert');\n",
              "        buttonEl.style.display =\n",
              "          google.colab.kernel.accessAllowed ? 'block' : 'none';\n",
              "\n",
              "        async function convertToInteractive(key) {\n",
              "          const element = document.querySelector('#df-bd7bbe3d-cb20-4a64-a1cb-db3f9d918a47');\n",
              "          const dataTable =\n",
              "            await google.colab.kernel.invokeFunction('convertToInteractive',\n",
              "                                                     [key], {});\n",
              "          if (!dataTable) return;\n",
              "\n",
              "          const docLinkHtml = 'Like what you see? Visit the ' +\n",
              "            '<a target=\"_blank\" href=https://colab.research.google.com/notebooks/data_table.ipynb>data table notebook</a>'\n",
              "            + ' to learn more about interactive tables.';\n",
              "          element.innerHTML = '';\n",
              "          dataTable['output_type'] = 'display_data';\n",
              "          await google.colab.output.renderOutput(dataTable, element);\n",
              "          const docLink = document.createElement('div');\n",
              "          docLink.innerHTML = docLinkHtml;\n",
              "          element.appendChild(docLink);\n",
              "        }\n",
              "      </script>\n",
              "    </div>\n",
              "  </div>\n",
              "  "
            ]
          },
          "metadata": {},
          "execution_count": 36
        }
      ],
      "source": [
        "#check first 5 rows of association rules\n",
        "rules.head()"
      ],
      "id": "e5b7f484"
    },
    {
      "cell_type": "markdown",
      "metadata": {
        "id": "mZJJLEBaZtk0"
      },
      "source": [
        "#### 1. What products are customers buying with HAND WARMER BIRD DESIGN?\n"
      ],
      "id": "mZJJLEBaZtk0"
    },
    {
      "cell_type": "code",
      "execution_count": 37,
      "metadata": {
        "id": "Nr3ph_6WZOC8",
        "colab": {
          "base_uri": "https://localhost:8080/"
        },
        "outputId": "aeb25393-4cf2-4382-fd69-18e287c4f35f"
      },
      "outputs": [
        {
          "output_type": "stream",
          "name": "stdout",
          "text": [
            "\n",
            "\n",
            "People who buy HAND WARMER BIRD DESIGN also buy HAND WARMER OWL DESIGN\n",
            "People who buy HAND WARMER BIRD DESIGN also buy HAND WARMER SCOTTY DOG DESIGN\n"
          ]
        }
      ],
      "source": [
        "targeted_rules=rules[rules['antecedents']=={'HAND WARMER BIRD DESIGN'}].copy()\n",
        "filtered_rules=targeted_rules[(targeted_rules['lift']>1) &\n",
        "                              (targeted_rules['confidence']>0.5) &\n",
        "                              (targeted_rules['support']>0.01)].sort_values(by='confidence',ascending=False)\n",
        "rules_data=filtered_rules[['antecedents','consequents','confidence']][0:3]\n",
        "\n",
        "antecedents=rules_data['antecedents'].apply(lambda x: list(x)).astype(\"unicode\").tolist()\n",
        "consequents=rules_data['consequents'].apply(lambda x: list(x)).astype(\"unicode\").tolist()\n",
        "print('\\n')\n",
        "for i in rules_data['consequents']:\n",
        "    print('People who buy HAND WARMER BIRD DESIGN','also buy', ((list(i))[0]))"
      ],
      "id": "Nr3ph_6WZOC8"
    },
    {
      "cell_type": "markdown",
      "metadata": {
        "id": "07iB0oO9d9fo"
      },
      "source": [
        "#### 2. What products can be used to cross-sell POPPY'S PLAYHOUSE KITCHEN?\n",
        "\n"
      ],
      "id": "07iB0oO9d9fo"
    },
    {
      "cell_type": "code",
      "execution_count": 38,
      "metadata": {
        "id": "aPzWwucZdQQZ",
        "colab": {
          "base_uri": "https://localhost:8080/"
        },
        "outputId": "921bcc3d-3fd6-4800-a1ab-13f5848f8572"
      },
      "outputs": [
        {
          "output_type": "stream",
          "name": "stdout",
          "text": [
            "\n",
            "\n",
            "People who buy POPPY'S PLAYHOUSE BEDROOM  also buy POPPY'S PLAYHOUSE KITCHEN\n",
            "People who buy POPPY'S PLAYHOUSE LIVINGROOM  also buy POPPY'S PLAYHOUSE KITCHEN\n",
            "People who buy POPPY'S PLAYHOUSE BEDROOM  also buy POPPY'S PLAYHOUSE KITCHEN\n"
          ]
        }
      ],
      "source": [
        "targeted_rules=rules[rules['consequents']=={\"POPPY'S PLAYHOUSE KITCHEN\"}].copy()\n",
        "filtered_rules=targeted_rules[(targeted_rules['lift']>1) &\n",
        "                              (targeted_rules['confidence']>0.75) &\n",
        "                              (targeted_rules['support']>0.01)].sort_values(by='confidence',ascending=False)\n",
        "rules_data=filtered_rules[['antecedents','consequents','confidence']][0:3]\n",
        "\n",
        "antecedents=rules_data['antecedents'].apply(lambda x: list(x)).astype(\"unicode\").tolist()\n",
        "consequents=rules_data['consequents'].apply(lambda x: list(x)).astype(\"unicode\").tolist()\n",
        "print('\\n')\n",
        "for i in rules_data['antecedents']:\n",
        "    print('People who buy', ((list(i))[0]),'also buy', \"POPPY'S PLAYHOUSE KITCHEN\")"
      ],
      "id": "aPzWwucZdQQZ"
    },
    {
      "cell_type": "markdown",
      "metadata": {
        "id": "gpqahAKSrWSu"
      },
      "source": [
        "#### Recommendation system \n"
      ],
      "id": "gpqahAKSrWSu"
    },
    {
      "cell_type": "markdown",
      "source": [
        "`A recommendation system for generating recommendation based on product's stockcode.The created function can be used by providing a valid stock code as an argument, and it will output relevant product recommendations based on the association rules derived from the dataset`"
      ],
      "metadata": {
        "id": "ow-QTp0Po5Jx"
      },
      "id": "ow-QTp0Po5Jx"
    },
    {
      "cell_type": "code",
      "execution_count": 39,
      "metadata": {
        "id": "RdaYvG4u8Ufp"
      },
      "outputs": [],
      "source": [
        "def get_recommendation(stockcode):\n",
        "  #function to give product recommendation\n",
        "  try:\n",
        "    item_name=data[data['StockCode']==(stockcode)].loc[:,'Description'].unique()\n",
        "    item_name=item_name[0]\n",
        "  except:\n",
        "    print(\"StockCode doesn't exist, Try again!\")      #outcome if wrong stockcode is entered\n",
        "  else:\n",
        "    targeted_rules=rules[rules['antecedents']=={item_name}].copy()\n",
        "    if len(targeted_rules)!=0:                                        # if stockcode's product is part of association rules\n",
        "\n",
        "        filtered_rules=targeted_rules[(targeted_rules['lift']>1) &\n",
        "                                  (targeted_rules['confidence']>0.5) &\n",
        "                                  (targeted_rules['support']>0.01)].sort_values(by='confidence',ascending=False)\n",
        "        rules_data=filtered_rules[['antecedents','consequents','confidence']][0:3]\n",
        "\n",
        "        antecedents=rules_data['antecedents'].apply(lambda x: list(x)).astype(\"unicode\").tolist()\n",
        "        consequents=rules_data['consequents'].apply(lambda x: list(x)).astype(\"unicode\").tolist()\n",
        "\n",
        "        print('\\n')\n",
        "        for i in rules_data['consequents']:\n",
        "            if len(rules_data['consequents']) != 0:\n",
        "                print('People who buy', item_name,'also buy', ((list(i))[0]))\n",
        "            else:\n",
        "              print(\"No possible recommendation\")             #outcome if stockcode's product consequents do not have confidence > 0.5 \n",
        "    else:\n",
        "      print(\"No possible recommendation\")                     #outcome if stockcode's product is not part of association rules"
      ],
      "id": "RdaYvG4u8Ufp"
    },
    {
      "cell_type": "code",
      "execution_count": 40,
      "metadata": {
        "id": "QQ0XWtCzzjrH",
        "colab": {
          "base_uri": "https://localhost:8080/"
        },
        "outputId": "47126f3d-6680-463d-db7e-df0df1b160e1"
      },
      "outputs": [
        {
          "output_type": "stream",
          "name": "stdout",
          "text": [
            "\n",
            "\n",
            "People who buy SET/6 RED SPOTTY PAPER CUPS also buy SET/6 RED SPOTTY PAPER PLATES\n",
            "People who buy SET/6 RED SPOTTY PAPER CUPS also buy SET/20 RED RETROSPOT PAPER NAPKINS \n"
          ]
        }
      ],
      "source": [
        "#check recommendation\n",
        "get_recommendation(21086)"
      ],
      "id": "QQ0XWtCzzjrH"
    },
    {
      "cell_type": "code",
      "source": [
        "from google.colab import files\n",
        "downloaded=files.download('/content/drive/MyDrive/Data science projects/uci_online_retail_data_cleaned.csv')"
      ],
      "metadata": {
        "colab": {
          "base_uri": "https://localhost:8080/",
          "height": 17
        },
        "id": "abF_Lfv2tkPy",
        "outputId": "dd1a157a-86d0-49c7-a751-36b1a132d241"
      },
      "id": "abF_Lfv2tkPy",
      "execution_count": 43,
      "outputs": [
        {
          "output_type": "display_data",
          "data": {
            "text/plain": [
              "<IPython.core.display.Javascript object>"
            ],
            "application/javascript": [
              "\n",
              "    async function download(id, filename, size) {\n",
              "      if (!google.colab.kernel.accessAllowed) {\n",
              "        return;\n",
              "      }\n",
              "      const div = document.createElement('div');\n",
              "      const label = document.createElement('label');\n",
              "      label.textContent = `Downloading \"${filename}\": `;\n",
              "      div.appendChild(label);\n",
              "      const progress = document.createElement('progress');\n",
              "      progress.max = size;\n",
              "      div.appendChild(progress);\n",
              "      document.body.appendChild(div);\n",
              "\n",
              "      const buffers = [];\n",
              "      let downloaded = 0;\n",
              "\n",
              "      const channel = await google.colab.kernel.comms.open(id);\n",
              "      // Send a message to notify the kernel that we're ready.\n",
              "      channel.send({})\n",
              "\n",
              "      for await (const message of channel.messages) {\n",
              "        // Send a message to notify the kernel that we're ready.\n",
              "        channel.send({})\n",
              "        if (message.buffers) {\n",
              "          for (const buffer of message.buffers) {\n",
              "            buffers.push(buffer);\n",
              "            downloaded += buffer.byteLength;\n",
              "            progress.value = downloaded;\n",
              "          }\n",
              "        }\n",
              "      }\n",
              "      const blob = new Blob(buffers, {type: 'application/binary'});\n",
              "      const a = document.createElement('a');\n",
              "      a.href = window.URL.createObjectURL(blob);\n",
              "      a.download = filename;\n",
              "      div.appendChild(a);\n",
              "      a.click();\n",
              "      div.remove();\n",
              "    }\n",
              "  "
            ]
          },
          "metadata": {}
        },
        {
          "output_type": "display_data",
          "data": {
            "text/plain": [
              "<IPython.core.display.Javascript object>"
            ],
            "application/javascript": [
              "download(\"download_6b2607af-eaad-453b-a548-a3e244e19d6f\", \"uci_online_retail_data_cleaned.csv\", 34510848)"
            ]
          },
          "metadata": {}
        }
      ]
    },
    {
      "cell_type": "code",
      "source": [],
      "metadata": {
        "id": "z5Fw3JqKtyZP"
      },
      "id": "z5Fw3JqKtyZP",
      "execution_count": null,
      "outputs": []
    }
  ],
  "metadata": {
    "colab": {
      "provenance": []
    },
    "kernelspec": {
      "display_name": "Python 3 (ipykernel)",
      "language": "python",
      "name": "python3"
    },
    "language_info": {
      "codemirror_mode": {
        "name": "ipython",
        "version": 3
      },
      "file_extension": ".py",
      "mimetype": "text/x-python",
      "name": "python",
      "nbconvert_exporter": "python",
      "pygments_lexer": "ipython3",
      "version": "3.9.12"
    }
  },
  "nbformat": 4,
  "nbformat_minor": 5
}